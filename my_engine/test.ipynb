{
 "cells": [
  {
   "cell_type": "code",
   "execution_count": 2,
   "metadata": {},
   "outputs": [],
   "source": [
    "import sys"
   ]
  },
  {
   "cell_type": "code",
   "execution_count": 3,
   "metadata": {},
   "outputs": [],
   "source": [
    "sys.path.append(\"/Users/diegoesparza/CS_Ventures/current_projects/chess_engine_using_probabilities/my_engine/chess-sauce\")"
   ]
  },
  {
   "cell_type": "code",
   "execution_count": 4,
   "metadata": {},
   "outputs": [],
   "source": [
    "import my_engine\n",
    "import chess\n",
    "import stockfish"
   ]
  },
  {
   "cell_type": "code",
   "execution_count": 8,
   "metadata": {},
   "outputs": [],
   "source": [
    "sf = stockfish.Stockfish(path=\"/Users/diegoesparza/Downloads/stockfish/stockfish-macos-x86-64\")"
   ]
  },
  {
   "cell_type": "code",
   "execution_count": 9,
   "metadata": {},
   "outputs": [],
   "source": [
    "sf.set_fen_position(\"4r3/8/Pk1pN1p1/2p2p2/1p6/1P3BP1/1BK1R2P/8 b - - 3 49\")"
   ]
  },
  {
   "cell_type": "code",
   "execution_count": 23,
   "metadata": {},
   "outputs": [
    {
     "data": {
      "text/plain": [
       "[{'Move': 'e2e4', 'Centipawn': 31, 'Mate': None},\n",
       " {'Move': 'd2d4', 'Centipawn': 20, 'Mate': None},\n",
       " {'Move': 'g1f3', 'Centipawn': 19, 'Mate': None},\n",
       " {'Move': 'c2c4', 'Centipawn': 17, 'Mate': None},\n",
       " {'Move': 'e2e3', 'Centipawn': 17, 'Mate': None},\n",
       " {'Move': 'g2g3', 'Centipawn': 14, 'Mate': None},\n",
       " {'Move': 'c2c3', 'Centipawn': 13, 'Mate': None},\n",
       " {'Move': 'a2a3', 'Centipawn': 3, 'Mate': None},\n",
       " {'Move': 'h2h3', 'Centipawn': -3, 'Mate': None},\n",
       " {'Move': 'b1c3', 'Centipawn': -4, 'Mate': None},\n",
       " {'Move': 'a2a4', 'Centipawn': -12, 'Mate': None},\n",
       " {'Move': 'd2d3', 'Centipawn': -12, 'Mate': None},\n",
       " {'Move': 'b2b3', 'Centipawn': -13, 'Mate': None},\n",
       " {'Move': 'f2f4', 'Centipawn': -22, 'Mate': None},\n",
       " {'Move': 'b2b4', 'Centipawn': -34, 'Mate': None},\n",
       " {'Move': 'h2h4', 'Centipawn': -39, 'Mate': None},\n",
       " {'Move': 'g1h3', 'Centipawn': -55, 'Mate': None},\n",
       " {'Move': 'b1a3', 'Centipawn': -55, 'Mate': None},\n",
       " {'Move': 'f2f3', 'Centipawn': -76, 'Mate': None},\n",
       " {'Move': 'g2g4', 'Centipawn': -121, 'Mate': None}]"
      ]
     },
     "execution_count": 23,
     "metadata": {},
     "output_type": "execute_result"
    }
   ],
   "source": [
    "sf.get_top_moves(20)"
   ]
  },
  {
   "cell_type": "code",
   "execution_count": 13,
   "metadata": {},
   "outputs": [
    {
     "data": {
      "text/plain": [
       "<Capture.NO_CAPTURE: 'no capture'>"
      ]
     },
     "execution_count": 13,
     "metadata": {},
     "output_type": "execute_result"
    }
   ],
   "source": [
    "sf.will_move_be_a_capture(\"g6g5\")"
   ]
  },
  {
   "cell_type": "code",
   "execution_count": 32,
   "metadata": {},
   "outputs": [],
   "source": [
    "# this is mostly good. one ~flaw is that it could leave the position in a state\n",
    "# where white has to play a specific move to save a piece from capture. worth\n",
    "# thinking about whether this would cause the same issue as hanging piece /\n",
    "# tactic. maybe not because, since white can move the piece out of harms way, it\n",
    "# won't affect stockfish eval. and we don't expect model to pick up on attacks\n",
    "# necessarily.\n",
    "def gen_random_positions(b, sf, positions_to_generate, opening_depth, random_depth):\n",
    "    fen = b.fen()\n",
    "    sf.set_fen_position(fen)\n",
    "    if opening_depth > 0:\n",
    "        next_opening_depth, next_random_depth = opening_depth-1, random_depth\n",
    "        moves = sf.get_top_moves(min(positions_to_generate, 7))\n",
    "        top_centipawn = moves[0][\"Centipawn\"]\n",
    "        last_idx = 1\n",
    "        while True:\n",
    "            if last_idx == len(moves):\n",
    "                break\n",
    "            if last_idx > positions_to_generate:\n",
    "                break\n",
    "            if moves[last_idx][\"Centipawn\"] + 100 < top_centipawn:\n",
    "                break\n",
    "            last_idx += 1\n",
    "            \n",
    "        moves_to_explore = moves[:last_idx]\n",
    "            \n",
    "    else:\n",
    "        next_opening_depth = 0\n",
    "        if random_depth == 0:\n",
    "            next_random_depth = 0\n",
    "            if positions_to_generate != 1:\n",
    "                raise ValueError(positions_to_generate)\n",
    "            moves = sf.get_top_moves(1)\n",
    "            if sf.will_move_be_a_capture(moves[0][\"Move\"]) != stockfish.Stockfish.Capture.NO_CAPTURE:\n",
    "                moves_to_explore = moves\n",
    "            else:\n",
    "                print(fen)\n",
    "                return None\n",
    "        else:\n",
    "            next_random_depth = random_depth-1\n",
    "            # maybe we shouldn't do min, so that branches are spread out across\n",
    "            # good and bad positions\n",
    "            moves = sf.get_top_moves(min(positions_to_generate, 20))\n",
    "            moves_to_explore = moves\n",
    "\n",
    "    pos_per = positions_to_generate // len(moves_to_explore)\n",
    "    rem = positions_to_generate - pos_per * len(moves_to_explore)\n",
    "    for idx, move in enumerate(moves_to_explore):\n",
    "        next_positions_to_generate = pos_per\n",
    "        if idx < rem:\n",
    "            next_positions_to_generate += 1\n",
    "        move_uci = move[\"Move\"]\n",
    "        chess_move = chess.Move.from_uci(move_uci)\n",
    "        b.push(chess_move)\n",
    "        gen_random_positions(b, sf, next_positions_to_generate, next_opening_depth, next_random_depth)\n",
    "        b.pop()"
   ]
  },
  {
   "cell_type": "code",
   "execution_count": 33,
   "metadata": {},
   "outputs": [
    {
     "name": "stdout",
     "output_type": "stream",
     "text": [
      "1qrr2k1/1p2ppbp/2npbnp1/p5B1/P3P3/1NN3Q1/1PP1BPPP/3R1RK1 w - - 12 18\n",
      "r2r2k1/p3npp1/1p2bq1p/2p5/Q2P4/3BPN2/P4PPP/2R2RK1 w - - 0 18\n",
      "r6r/pp1bbkpp/2n5/5p2/B7/P1N1B3/1P2KPPP/R6R w - - 3 18\n",
      "r4rk1/ppp2pp1/4bn1p/8/N3PP2/3nB1P1/PP4BP/R4RK1 b - - 0 18\n",
      "r4rk1/bpq2ppp/p4n2/5b2/NP6/P4B2/3R1PPP/2BQ1RK1 w - - 6 18\n"
     ]
    }
   ],
   "source": [
    "b = chess.Board()\n",
    "positions_to_generate = 5\n",
    "opening_depth = 20\n",
    "random_depth = 14\n",
    "gen_random_positions(b, sf, positions_to_generate, opening_depth, random_depth)"
   ]
  },
  {
   "cell_type": "code",
   "execution_count": 15,
   "metadata": {},
   "outputs": [
    {
     "name": "stdout",
     "output_type": "stream",
     "text": [
      "+---+---+---+---+---+---+---+---+\n",
      "| r | n | b | q | k | b | n | r | 8\n",
      "+---+---+---+---+---+---+---+---+\n",
      "| p | p | p | p | p | p | p | p | 7\n",
      "+---+---+---+---+---+---+---+---+\n",
      "|   |   |   |   |   |   |   |   | 6\n",
      "+---+---+---+---+---+---+---+---+\n",
      "|   |   |   |   |   |   |   |   | 5\n",
      "+---+---+---+---+---+---+---+---+\n",
      "|   |   |   |   |   |   |   |   | 4\n",
      "+---+---+---+---+---+---+---+---+\n",
      "|   |   |   |   |   |   |   |   | 3\n",
      "+---+---+---+---+---+---+---+---+\n",
      "| P | P | P | P | P | P | P | P | 2\n",
      "+---+---+---+---+---+---+---+---+\n",
      "| R | N | B | Q | K | B | N | R | 1\n",
      "+---+---+---+---+---+---+---+---+\n",
      "  a   b   c   d   e   f   g   h\n",
      "\n"
     ]
    }
   ],
   "source": [
    "print(sf.get_board_visual())"
   ]
  },
  {
   "cell_type": "code",
   "execution_count": null,
   "metadata": {},
   "outputs": [],
   "source": []
  }
 ],
 "metadata": {
  "kernelspec": {
   "display_name": "Python 3",
   "language": "python",
   "name": "python3"
  },
  "language_info": {
   "codemirror_mode": {
    "name": "ipython",
    "version": 3
   },
   "file_extension": ".py",
   "mimetype": "text/x-python",
   "name": "python",
   "nbconvert_exporter": "python",
   "pygments_lexer": "ipython3",
   "version": "3.13.0"
  },
  "orig_nbformat": 4
 },
 "nbformat": 4,
 "nbformat_minor": 2
}
