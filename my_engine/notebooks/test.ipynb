{
 "cells": [
  {
   "cell_type": "code",
   "execution_count": 1,
   "metadata": {},
   "outputs": [],
   "source": [
    "import sys\n",
    "sys.path.append(\"/Users/diegoesparza/CS_Ventures/current_projects/chess_engine_using_probabilities/my_engine/chess-sauce\")\n",
    "import my_engine\n",
    "import chess"
   ]
  },
  {
   "cell_type": "code",
   "execution_count": 2,
   "metadata": {},
   "outputs": [],
   "source": [
    "b = chess.Board(\"r2q1rk1/4b1pp/2p5/p1PpP3/3Qp3/8/PP3PPP/R1B2RK1 w - - 0 17\")"
   ]
  },
  {
   "cell_type": "code",
   "execution_count": 3,
   "metadata": {},
   "outputs": [
    {
     "name": "stdout",
     "output_type": "stream",
     "text": [
      "mg: -24, eg: 24, piece: k, square: 62\n",
      "mg: -484, eg: -499, piece: r, square: 61\n",
      "mg: -1035, eg: -893, piece: q, square: 59\n",
      "mg: -458, eg: -503, piece: r, square: 56\n",
      "mg: -60, eg: -87, piece: p, square: 55\n",
      "mg: -120, eg: -96, piece: p, square: 54\n",
      "mg: -372, eg: -301, piece: b, square: 52\n",
      "mg: -78, eg: -88, piece: p, square: 42\n",
      "mg: 105, eg: 92, piece: P, square: 36\n",
      "mg: -94, eg: -87, piece: p, square: 35\n",
      "mg: 88, eg: 107, piece: P, square: 34\n",
      "mg: -55, eg: -107, piece: p, square: 32\n",
      "mg: -105, eg: -92, piece: p, square: 28\n",
      "mg: 1015, eg: 983, piece: Q, square: 27\n",
      "mg: 60, eg: 87, piece: P, square: 15\n",
      "mg: 120, eg: 96, piece: P, square: 14\n",
      "mg: 106, eg: 94, piece: P, square: 13\n",
      "mg: 81, eg: 102, piece: P, square: 9\n",
      "mg: 47, eg: 107, piece: P, square: 8\n",
      "mg: 24, eg: -24, piece: K, square: 6\n",
      "mg: 484, eg: 499, piece: R, square: 5\n",
      "mg: 351, eg: 274, piece: B, square: 2\n",
      "mg: 458, eg: 503, piece: R, square: 0\n"
     ]
    },
    {
     "data": {
      "text/plain": [
       "(88.25, 0.75)"
      ]
     },
     "execution_count": 3,
     "metadata": {},
     "output_type": "execute_result"
    }
   ],
   "source": [
    "my_engine.eval_piece_vals.eval_piece_vals(b)"
   ]
  },
  {
   "cell_type": "code",
   "execution_count": 9,
   "metadata": {},
   "outputs": [
    {
     "name": "stdout",
     "output_type": "stream",
     "text": [
      "5\n",
      "7\n",
      "47\n"
     ]
    }
   ],
   "source": [
    "square = 47\n",
    "print(chess.square_rank(square))\n",
    "print(chess.square_file(square))\n",
    "print((8 * chess.square_rank(square)) + chess.square_file(square))"
   ]
  },
  {
   "cell_type": "code",
   "execution_count": 5,
   "metadata": {},
   "outputs": [
    {
     "data": {
      "text/plain": [
       "49"
      ]
     },
     "execution_count": 5,
     "metadata": {},
     "output_type": "execute_result"
    }
   ],
   "source": [
    "chess.square_mirror(square)"
   ]
  },
  {
   "cell_type": "code",
   "execution_count": null,
   "metadata": {},
   "outputs": [],
   "source": []
  }
 ],
 "metadata": {
  "kernelspec": {
   "display_name": "Python 3",
   "language": "python",
   "name": "python3"
  },
  "language_info": {
   "codemirror_mode": {
    "name": "ipython",
    "version": 3
   },
   "file_extension": ".py",
   "mimetype": "text/x-python",
   "name": "python",
   "nbconvert_exporter": "python",
   "pygments_lexer": "ipython3",
   "version": "3.13.0"
  },
  "orig_nbformat": 4
 },
 "nbformat": 4,
 "nbformat_minor": 2
}
