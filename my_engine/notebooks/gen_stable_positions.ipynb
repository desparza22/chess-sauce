{
 "cells": [
  {
   "cell_type": "code",
   "execution_count": 1,
   "metadata": {},
   "outputs": [],
   "source": [
    "import sys"
   ]
  },
  {
   "cell_type": "code",
   "execution_count": 2,
   "metadata": {},
   "outputs": [],
   "source": [
    "sys.path.append(\"/Users/diegoesparza/CS_Ventures/current_projects/chess_engine_using_probabilities/my_engine/chess-sauce\")"
   ]
  },
  {
   "cell_type": "code",
   "execution_count": 3,
   "metadata": {},
   "outputs": [],
   "source": [
    "import my_engine\n",
    "import chess\n",
    "import stockfish\n",
    "import random\n",
    "from line_profiler import LineProfiler\n",
    "import pandas as pd"
   ]
  },
  {
   "cell_type": "code",
   "execution_count": 4,
   "metadata": {},
   "outputs": [],
   "source": [
    "sf = stockfish.Stockfish(path=\"/Users/diegoesparza/Downloads/stockfish/stockfish-macos-x86-64\")"
   ]
  },
  {
   "cell_type": "code",
   "execution_count": 5,
   "metadata": {},
   "outputs": [],
   "source": [
    "# this is mostly good. one ~flaw is that it could leave the position in a state\n",
    "# where white has to play a specific move to save a piece from capture. worth\n",
    "# thinking about whether this would cause the same issue as hanging piece /\n",
    "# tactic. maybe not because, since white can move the piece out of harms way, it\n",
    "# won't affect stockfish eval. and we don't expect model to pick up on attacks\n",
    "# necessarily.\n",
    "#\n",
    "# we could explore until various heuristics are met:\n",
    "# 1. second best piece to move is close in centipawn to best move\n",
    "# 2. best non capture move is close in centipawn to best move\n",
    "def gen_positions_from(b, sf, positions_to_generate, depth):\n",
    "    if depth == 0:\n",
    "        next_depth = 0\n",
    "        if positions_to_generate != 1:\n",
    "            raise ValueError(positions_to_generate)\n",
    "        fen = b.fen()\n",
    "        sf.set_fen_position(fen)\n",
    "        moves = sf.get_top_moves(1)\n",
    "        if sf.will_move_be_a_capture(moves[0][\"Move\"]) != stockfish.Stockfish.Capture.NO_CAPTURE:\n",
    "            moves_to_explore = [chess.Move.from_uci(move[\"Move\"]) for move in moves]\n",
    "        else:\n",
    "            print(fen)\n",
    "            return None\n",
    "    else:\n",
    "        next_depth = depth-1\n",
    "        moves = list(b.legal_moves)\n",
    "        if positions_to_generate < len(moves):\n",
    "            moves = random.sample(moves, positions_to_generate)\n",
    "        moves_to_explore = moves\n",
    "\n",
    "    if len(moves_to_explore) == 0:\n",
    "        fen = b.fen()\n",
    "        raise ValueError(f\"reached end: {fen}\")\n",
    "    pos_per = positions_to_generate // len(moves_to_explore)\n",
    "    rem = positions_to_generate - pos_per * len(moves_to_explore)\n",
    "    for idx, move in enumerate(moves_to_explore):\n",
    "        next_positions_to_generate = pos_per\n",
    "        if idx < rem:\n",
    "            next_positions_to_generate += 1\n",
    "        b.push(move)\n",
    "        gen_positions_from(b, sf, next_positions_to_generate, next_depth)\n",
    "        b.pop()\n",
    "        \n",
    "def gen_positions(sf, opening_fens, positions_to_generate, depth):\n",
    "    if positions_to_generate < len(opening_fens):\n",
    "        opening_fens = random.sample(opening_fens, positions_to_generate)\n",
    "        \n",
    "    pos_per = positions_to_generate // len(opening_fens)\n",
    "    rem = positions_to_generate - pos_per * len(opening_fens)\n",
    "    for idx, fen in enumerate(opening_fens):\n",
    "        next_positions_to_generate = pos_per\n",
    "        if idx < rem:\n",
    "            next_positions_to_generate += 1\n",
    "        b = chess.Board(fen)\n",
    "        try:\n",
    "            gen_positions_from(b, sf, next_positions_to_generate, depth)\n",
    "        except ValueError as e:\n",
    "            print(f\"Error from {fen}: {e}\")"
   ]
  },
  {
   "cell_type": "code",
   "execution_count": 9,
   "metadata": {},
   "outputs": [
    {
     "name": "stdout",
     "output_type": "stream",
     "text": [
      "rn2kb1r/1p2qp1p/p2p2p1/4P2P/4P3/1PN5/P1PB2BP/R2bK2R b KQkq - 0 13\n",
      "rnb3nr/1pp2k1p/3p2p1/p2Pp3/N1P1Pp1q/3B1P1P/PP4P1/R2Q1KNR w - - 5 13\n",
      "1rbq1rk1/ppp1bppp/8/3p4/3Pn3/P1PBBNP1/P3RP1P/RN1Q2K1 b - - 0 13\n",
      "rn3rk1/pbq1p1bp/3pBnp1/1pp5/3P1PP1/2P4P/PP6/RNBQK1NR b KQ - 0 13\n",
      "rq3rk1/pp2bppp/2npb3/7n/4P3/2NQ1N2/PP3PPP/R1B2RK1 w - - 4 13\n",
      "4k2r/ppq2ppp/2n1pn2/3p1b2/1P1P4/1N3NP1/P1P1BP1P/R2Q1RK1 w k - 0 14\n",
      "rn3rk1/p1p2ppp/3q4/1p1p4/P2P2Bb/2N1P3/1P3PPP/1R1QK2R b K - 0 13\n",
      "r1bqr1k1/p4ppp/1pn1p3/b2p3n/2Pp4/P3PNP1/1PB1NP1P/R1B1QRK1 w - - 2 13\n",
      "rnb2rk1/p2nq1b1/3pp1p1/1Pp4p/4PP2/3B1NKP/PP4P1/RNBQ1R2 b - - 0 14\n",
      "Bn1qbrkb/p2n1p1p/6p1/3p4/Q2P3P/4PN2/PP2KPP1/R1B4R b - - 0 14\n",
      "Timer unit: 1e-09 s\n",
      "\n",
      "Total time: 3.14365 s\n",
      "File: /var/folders/j2/1qmnvcts25x7hrnmfmyczwg40000gn/T/ipykernel_92210/410664942.py\n",
      "Function: gen_positions_from at line 7\n",
      "\n",
      "Line #      Hits         Time  Per Hit   % Time  Line Contents\n",
      "==============================================================\n",
      "     7                                           def gen_positions_from(b, sf, positions_to_generate, depth):\n",
      "     8       102      90000.0    882.4      0.0      if depth == 0:\n",
      "     9        22       8000.0    363.6      0.0          next_depth = 0\n",
      "    10        22      14000.0    636.4      0.0          if positions_to_generate != 1:\n",
      "    11                                                       raise ValueError(positions_to_generate)\n",
      "    12        22    5651000.0 256863.6      0.2          fen = b.fen()\n",
      "    13        22   44194000.0    2e+06      1.4          sf.set_fen_position(fen)\n",
      "    14        22 3019415000.0    1e+08     96.0          moves = sf.get_top_moves(1)\n",
      "    15        22   16366000.0 743909.1      0.5          if sf.will_move_be_a_capture(moves[0][\"Move\"]) != stockfish.Stockfish.Capture.NO_CAPTURE:\n",
      "    16        24     244000.0  10166.7      0.0              moves_to_explore = [chess.Move.from_uci(move[\"Move\"]) for move in moves]\n",
      "    17                                                   else:\n",
      "    18        10    1358000.0 135800.0      0.0              print(fen)\n",
      "    19        10      14000.0   1400.0      0.0              return None\n",
      "    20                                               else:\n",
      "    21        80      82000.0   1025.0      0.0          next_depth = depth-1\n",
      "    22        80   44609000.0 557612.5      1.4          moves = list(b.legal_moves)\n",
      "    23        80     138000.0   1725.0      0.0          if positions_to_generate < len(moves):\n",
      "    24        80    1554000.0  19425.0      0.0              moves = random.sample(moves, positions_to_generate)\n",
      "    25        80      47000.0    587.5      0.0          moves_to_explore = moves\n",
      "    26                                           \n",
      "    27        92      63000.0    684.8      0.0      if len(moves_to_explore) == 0:\n",
      "    28                                                   fen = b.fen()\n",
      "    29                                                   raise ValueError(f\"reached end: {fen}\")\n",
      "    30        92      55000.0    597.8      0.0      pos_per = positions_to_generate // len(moves_to_explore)\n",
      "    31        92      59000.0    641.3      0.0      rem = positions_to_generate - pos_per * len(moves_to_explore)\n",
      "    32       184    5275000.0  28668.5      0.2      for idx, move in enumerate(moves_to_explore):\n",
      "    33        92      38000.0    413.0      0.0          next_positions_to_generate = pos_per\n",
      "    34        92      34000.0    369.6      0.0          if idx < rem:\n",
      "    35                                                       next_positions_to_generate += 1\n",
      "    36        92    3819000.0  41510.9      0.1          b.push(move)\n",
      "    37        92      78000.0    847.8      0.0          gen_positions_from(b, sf, next_positions_to_generate, next_depth)\n",
      "    38        92     440000.0   4782.6      0.0          b.pop()\n",
      "\n",
      "Total time: 3.15512 s\n",
      "File: /var/folders/j2/1qmnvcts25x7hrnmfmyczwg40000gn/T/ipykernel_92210/410664942.py\n",
      "Function: gen_positions at line 40\n",
      "\n",
      "Line #      Hits         Time  Per Hit   % Time  Line Contents\n",
      "==============================================================\n",
      "    40                                           def gen_positions(sf, opening_fens, positions_to_generate, depth):\n",
      "    41         1      13000.0  13000.0      0.0      if positions_to_generate < len(opening_fens):\n",
      "    42         1    1658000.0    2e+06      0.1          opening_fens = random.sample(opening_fens, positions_to_generate)\n",
      "    43                                                   \n",
      "    44         1       4000.0   4000.0      0.0      pos_per = positions_to_generate // len(opening_fens)\n",
      "    45         1       2000.0   2000.0      0.0      rem = positions_to_generate - pos_per * len(opening_fens)\n",
      "    46        11      14000.0   1272.7      0.0      for idx, fen in enumerate(opening_fens):\n",
      "    47        10       6000.0    600.0      0.0          next_positions_to_generate = pos_per\n",
      "    48        10       5000.0    500.0      0.0          if idx < rem:\n",
      "    49                                                       next_positions_to_generate += 1\n",
      "    50        10    3534000.0 353400.0      0.1          b = chess.Board(fen)\n",
      "    51        10       6000.0    600.0      0.0          try:\n",
      "    52        10 3149876000.0    3e+08     99.8              gen_positions_from(b, sf, next_positions_to_generate, depth)\n",
      "    53                                                   except ValueError as e:\n",
      "    54                                                       print(f\"Error from {fen}: {e}\")\n",
      "\n"
     ]
    }
   ],
   "source": [
    "positions_to_generate = 10\n",
    "depth = 8\n",
    "\n",
    "lp = LineProfiler()\n",
    "lp.add_function(gen_positions_from)\n",
    "lp.add_function(gen_positions)\n",
    "opening_fens = !cat \"/Users/diegoesparza/CS_Ventures/current_projects/chess_engine_using_probabilities/kaggle_fens/strong_openings\"\n",
    "lp.runcall(gen_positions, sf, opening_fens, positions_to_generate, depth)\n",
    "lp.print_stats()"
   ]
  },
  {
   "cell_type": "code",
   "execution_count": 13,
   "metadata": {},
   "outputs": [
    {
     "name": "stdout",
     "output_type": "stream",
     "text": [
      "[{'Move': 'e2e4', 'Centipawn': 25, 'Mate': None}, {'Move': 'd2d4', 'Centipawn': 23, 'Mate': None}, {'Move': 'g1f3', 'Centipawn': 18, 'Mate': None}, {'Move': 'e2e3', 'Centipawn': 18, 'Mate': None}]\n",
      "[{'Move': 'd2d4', 'Centipawn': 26, 'Mate': None}, {'Move': 'e2e4', 'Centipawn': 24, 'Mate': None}, {'Move': 'g1f3', 'Centipawn': 18, 'Mate': None}, {'Move': 'e2e3', 'Centipawn': 13, 'Mate': None}]\n",
      "[{'Move': 'e2e4', 'Centipawn': 26, 'Mate': None}, {'Move': 'd2d4', 'Centipawn': 22, 'Mate': None}, {'Move': 'g1f3', 'Centipawn': 21, 'Mate': None}, {'Move': 'e2e3', 'Centipawn': 13, 'Mate': None}]\n",
      "[{'Move': 'e2e4', 'Centipawn': 22, 'Mate': None}, {'Move': 'd2d4', 'Centipawn': 21, 'Mate': None}, {'Move': 'g1f3', 'Centipawn': 20, 'Mate': None}, {'Move': 'c2c4', 'Centipawn': 16, 'Mate': None}]\n",
      "[{'Move': 'd2d4', 'Centipawn': 23, 'Mate': None}, {'Move': 'e2e4', 'Centipawn': 21, 'Mate': None}, {'Move': 'g1f3', 'Centipawn': 20, 'Mate': None}, {'Move': 'e2e3', 'Centipawn': 11, 'Mate': None}]\n",
      "[{'Move': 'e2e4', 'Centipawn': 23, 'Mate': None}, {'Move': 'd2d4', 'Centipawn': 22, 'Mate': None}, {'Move': 'g1f3', 'Centipawn': 18, 'Mate': None}, {'Move': 'e2e3', 'Centipawn': 13, 'Mate': None}]\n",
      "[{'Move': 'e2e4', 'Centipawn': 26, 'Mate': None}, {'Move': 'd2d4', 'Centipawn': 21, 'Mate': None}, {'Move': 'c2c4', 'Centipawn': 20, 'Mate': None}, {'Move': 'g1f3', 'Centipawn': 19, 'Mate': None}]\n",
      "[{'Move': 'e2e4', 'Centipawn': 40, 'Mate': None}, {'Move': 'g1f3', 'Centipawn': 21, 'Mate': None}, {'Move': 'd2d4', 'Centipawn': 21, 'Mate': None}, {'Move': 'c2c4', 'Centipawn': 19, 'Mate': None}]\n",
      "[{'Move': 'e2e4', 'Centipawn': 38, 'Mate': None}, {'Move': 'd2d4', 'Centipawn': 22, 'Mate': None}, {'Move': 'g1f3', 'Centipawn': 22, 'Mate': None}, {'Move': 'c2c4', 'Centipawn': 19, 'Mate': None}]\n",
      "[{'Move': 'e2e4', 'Centipawn': 31, 'Mate': None}, {'Move': 'd2d4', 'Centipawn': 26, 'Mate': None}, {'Move': 'g1f3', 'Centipawn': 23, 'Mate': None}, {'Move': 'c2c4', 'Centipawn': 22, 'Mate': None}]\n"
     ]
    }
   ],
   "source": [
    "sf.set_position()\n",
    "for i in range(10):\n",
    "    print(sf.get_top_moves(4))"
   ]
  },
  {
   "cell_type": "code",
   "execution_count": null,
   "metadata": {},
   "outputs": [],
   "source": []
  }
 ],
 "metadata": {
  "kernelspec": {
   "display_name": "Python 3",
   "language": "python",
   "name": "python3"
  },
  "language_info": {
   "codemirror_mode": {
    "name": "ipython",
    "version": 3
   },
   "file_extension": ".py",
   "mimetype": "text/x-python",
   "name": "python",
   "nbconvert_exporter": "python",
   "pygments_lexer": "ipython3",
   "version": "3.13.0"
  },
  "orig_nbformat": 4
 },
 "nbformat": 4,
 "nbformat_minor": 2
}
