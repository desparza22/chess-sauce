{
 "cells": [
  {
   "cell_type": "code",
   "execution_count": 1,
   "metadata": {},
   "outputs": [],
   "source": [
    "import sys"
   ]
  },
  {
   "cell_type": "code",
   "execution_count": 2,
   "metadata": {},
   "outputs": [],
   "source": [
    "sys.path.append(\"/Users/diegoesparza/CS_Ventures/current_projects/chess_engine_using_probabilities/my_engine/chess-sauce\")"
   ]
  },
  {
   "cell_type": "code",
   "execution_count": 3,
   "metadata": {},
   "outputs": [],
   "source": [
    "import my_engine\n",
    "import chess\n",
    "import stockfish\n",
    "import random\n",
    "from line_profiler import LineProfiler\n",
    "import pandas as pd"
   ]
  },
  {
   "cell_type": "code",
   "execution_count": 4,
   "metadata": {},
   "outputs": [],
   "source": [
    "sf = stockfish.Stockfish(path=\"/Users/diegoesparza/Downloads/stockfish/stockfish-macos-x86-64\")\n",
    "sf.resume_full_strength()"
   ]
  },
  {
   "cell_type": "code",
   "execution_count": 5,
   "metadata": {},
   "outputs": [],
   "source": [
    "# if second best piece to move can't make a move nearly as good as best move,\n",
    "# probably not stable\n",
    "# \n",
    "# if best non-capture/non-check move isn't nearly as good as best move, probably\n",
    "# not stable.\n",
    "#\n",
    "# board piece eval at end should be within -200 200\n",
    "# centipawn eval should be within -200 200 (this we'll track as we go along)\n",
    "def position_is_stable(b, sf):\n",
    "    # assume sf is set to b's position\n",
    "    score, _ = my_engine.eval_piece_vals.eval_piece_vals(b)\n",
    "    if abs(score) > 200:\n",
    "        print(f\"piece evals: {score}\")\n",
    "        return False\n",
    "   \n",
    "    eval = sf.get_evaluation(searchtime=20)\n",
    "    if eval[\"type\"] != \"cp\":\n",
    "        print(\"mate\")\n",
    "        return False\n",
    "    if abs(eval[\"value\"]) > 200:\n",
    "        print(f\"eval: {eval[\"value\"]}\")\n",
    "        return False\n",
    "   \n",
    "    moves = sf.get_top_moves(7, num_nodes=10000)\n",
    "    for move in moves:\n",
    "        move[\"Move\"] = chess.Move.from_uci(move[\"Move\"])\n",
    "    top_centipawn = moves[0][\"Centipawn\"]\n",
    "    top_origin = moves[0][\"Move\"].from_square\n",
    "    mult = 1 if b.turn else -1\n",
    "   \n",
    "    # check origins, captures\n",
    "    must_capture = True\n",
    "    must_move_specific_piece = True\n",
    "    for move in moves:\n",
    "        centipawn = move[\"Centipawn\"]\n",
    "        if mult * centipawn + 200 < mult * top_centipawn:\n",
    "            print(f\"moves: {moves}\")\n",
    "            return False\n",
    "           \n",
    "        if not b.is_capture(move[\"Move\"]):\n",
    "            must_capture = False\n",
    "        if move[\"Move\"].from_square != top_origin:\n",
    "            must_move_specific_piece = False\n",
    "            \n",
    "        if not (must_capture or must_move_specific_piece):\n",
    "            break\n",
    "    if must_capture or must_move_specific_piece:\n",
    "        print(f\"moves: {moves}\")\n",
    "    return not (must_capture or must_move_specific_piece)\n",
    "\n",
    "\n",
    "def gen_positions_from(b, sf, positions_to_generate, depth):\n",
    "    fen = b.fen()\n",
    "    sf.set_fen_position(fen)\n",
    "    if depth == 0:\n",
    "        next_depth = 0\n",
    "        if positions_to_generate != 1:\n",
    "            raise ValueError(positions_to_generate)\n",
    "        if position_is_stable(b, sf):\n",
    "            print(f\"stable: {fen}\")\n",
    "        else:\n",
    "            print(f\"unstable: {fen}\")\n",
    "        return None\n",
    "    else:\n",
    "        moves = sf.get_top_moves(min(7, positions_to_generate), num_nodes=10000)\n",
    "        moves = [move for move in moves if abs(move[\"Centipawn\"]) < 500]\n",
    "        if len(moves) == 0:\n",
    "            print(f\"skewed: {fen}\")\n",
    "            \n",
    "        moves_to_explore = [chess.Move.from_uci(move[\"Move\"]) for move in moves]\n",
    "        next_depth = depth-1\n",
    "        moves = list(b.legal_moves)\n",
    "\n",
    "    pos_per = positions_to_generate // len(moves_to_explore)\n",
    "    rem = positions_to_generate - pos_per * len(moves_to_explore)\n",
    "    for idx, move in enumerate(moves_to_explore):\n",
    "        next_positions_to_generate = pos_per\n",
    "        if idx < rem:\n",
    "            next_positions_to_generate += 1\n",
    "        b.push(move)\n",
    "        gen_positions_from(b, sf, next_positions_to_generate, next_depth)\n",
    "        b.pop()\n",
    "        \n",
    "def gen_positions(sf, opening_fens, positions_to_generate, depth):\n",
    "    if positions_to_generate < len(opening_fens):\n",
    "        opening_fens = random.sample(opening_fens, positions_to_generate)\n",
    "        \n",
    "    pos_per = positions_to_generate // len(opening_fens)\n",
    "    rem = positions_to_generate - pos_per * len(opening_fens)\n",
    "    for idx, fen in enumerate(opening_fens):\n",
    "        next_positions_to_generate = pos_per\n",
    "        if idx < rem:\n",
    "            next_positions_to_generate += 1\n",
    "        b = chess.Board(fen)\n",
    "        try:\n",
    "            gen_positions_from(b, sf, next_positions_to_generate, depth)\n",
    "        except ValueError as e:\n",
    "            print(f\"Error from {fen}: {e}\")"
   ]
  },
  {
   "cell_type": "code",
   "execution_count": 6,
   "metadata": {},
   "outputs": [
    {
     "name": "stdout",
     "output_type": "stream",
     "text": [
      "stable: r2q1rk1/4b1pp/2p5/p1PpP3/3Qp3/8/PP3PPP/R1B2RK1 w - - 0 17\n",
      "stable: r2q1r2/ppp1nppk/3p1n1p/4p3/P1BPP1Q1/2N1P2P/1PP3P1/R4RK1 w - - 3 15\n",
      "piece evals: -265.125\n",
      "unstable: r2q1rk1/p1ppbppp/1p2p3/n3P3/3P1P1P/P1Q1BN2/1PP3P1/2KR1b1R w - - 0 15\n",
      "stable: 2rq1r1k/1b1pnpbp/p5p1/1p1Np3/1P1nP3/P1N5/BB3PPP/R2Q1RK1 w - - 3 17\n",
      "piece evals: -293.375\n",
      "unstable: r1bq1rk1/2p3p1/1pn1pp2/3pP2Q/3P3n/P1P5/5PPP/R1B1KB1R w KQ - 2 15\n",
      "stable: r3kb1r/pp3ppp/8/8/2Bn2b1/6P1/PPPB1PP1/R3K1NR w KQkq - 1 13\n",
      "moves: [{'Move': Move.from_uci('f8h6'), 'Centipawn': -163, 'Mate': None}, {'Move': Move.from_uci('f8e7'), 'Centipawn': -205, 'Mate': None}, {'Move': Move.from_uci('f3e5'), 'Centipawn': -435, 'Mate': None}, {'Move': Move.from_uci('a2f7'), 'Centipawn': -443, 'Mate': None}, {'Move': Move.from_uci('d3d4'), 'Centipawn': -486, 'Mate': None}, {'Move': Move.from_uci('c3b5'), 'Centipawn': -530, 'Mate': None}, {'Move': Move.from_uci('c3a4'), 'Centipawn': -559, 'Mate': None}]\n",
      "unstable: rnbq1Bk1/4bp1p/2pp4/1p2p2p/p3P3/P1NP1N2/BPP2PPP/R3K2R w KQ - 0 15\n",
      "stable: r2r2k1/1p1bqppp/1p2pn2/2p1N3/1P1n4/P2B4/1BPQ1PPP/R2R2K1 w - - 0 17\n",
      "piece evals: -473.5\n",
      "unstable: r1bq1rk1/p4ppp/2p1pb1B/4P3/4p1Q1/3B4/PPP2PPP/R5K1 w - - 0 15\n",
      "stable: r2q1rk1/3n1pp1/b3pn1p/p2p4/R2P1B2/1QPBPN2/5PPP/R5K1 w - - 2 17\n",
      "Timer unit: 1e-09 s\n",
      "\n",
      "Total time: 0.305699 s\n",
      "File: /var/folders/j2/1qmnvcts25x7hrnmfmyczwg40000gn/T/ipykernel_16794/1175603468.py\n",
      "Function: position_is_stable at line 9\n",
      "\n",
      "Line #      Hits         Time  Per Hit   % Time  Line Contents\n",
      "==============================================================\n",
      "     9                                           def position_is_stable(b, sf):\n",
      "    10                                               # assume sf is set to b's position\n",
      "    11        10    2669000.0 266900.0      0.9      score, _ = my_engine.eval_piece_vals.eval_piece_vals(b)\n",
      "    12        10      19000.0   1900.0      0.0      if abs(score) > 200:\n",
      "    13         3     546000.0 182000.0      0.2          print(f\"piece evals: {score}\")\n",
      "    14         3       4000.0   1333.3      0.0          return False\n",
      "    15                                              \n",
      "    16         7  143454000.0    2e+07     46.9      eval = sf.get_evaluation(searchtime=20)\n",
      "    17         7       9000.0   1285.7      0.0      if eval[\"type\"] != \"cp\":\n",
      "    18                                                   print(\"mate\")\n",
      "    19                                                   return False\n",
      "    20         7      13000.0   1857.1      0.0      if abs(eval[\"value\"]) > 200:\n",
      "    21                                                   print(f\"eval: {eval[\"value\"]}\")\n",
      "    22                                                   return False\n",
      "    23                                              \n",
      "    24         7  158244000.0    2e+07     51.8      moves = sf.get_top_moves(7, num_nodes=10000)\n",
      "    25        56      35000.0    625.0      0.0      for move in moves:\n",
      "    26        49     316000.0   6449.0      0.1          move[\"Move\"] = chess.Move.from_uci(move[\"Move\"])\n",
      "    27         7       5000.0    714.3      0.0      top_centipawn = moves[0][\"Centipawn\"]\n",
      "    28         7       4000.0    571.4      0.0      top_origin = moves[0][\"Move\"].from_square\n",
      "    29         7       9000.0   1285.7      0.0      mult = 1 if b.turn else -1\n",
      "    30                                              \n",
      "    31                                               # check origins, captures\n",
      "    32         7       4000.0    571.4      0.0      must_capture = True\n",
      "    33         7       4000.0    571.4      0.0      must_move_specific_piece = True\n",
      "    34        17       7000.0    411.8      0.0      for move in moves:\n",
      "    35        17       7000.0    411.8      0.0          centipawn = move[\"Centipawn\"]\n",
      "    36        17      11000.0    647.1      0.0          if mult * centipawn + 200 < mult * top_centipawn:\n",
      "    37         1     205000.0 205000.0      0.1              print(f\"moves: {moves}\")\n",
      "    38         1       2000.0   2000.0      0.0              return False\n",
      "    39                                                      \n",
      "    40        16      74000.0   4625.0      0.0          if not b.is_capture(move[\"Move\"]):\n",
      "    41        11       6000.0    545.5      0.0              must_capture = False\n",
      "    42        16      10000.0    625.0      0.0          if move[\"Move\"].from_square != top_origin:\n",
      "    43         7       5000.0    714.3      0.0              must_move_specific_piece = False\n",
      "    44                                                       \n",
      "    45        16       6000.0    375.0      0.0          if not (must_capture or must_move_specific_piece):\n",
      "    46         6       2000.0    333.3      0.0              break\n",
      "    47         6       4000.0    666.7      0.0      if must_capture or must_move_specific_piece:\n",
      "    48                                                   print(f\"moves: {moves}\")\n",
      "    49         6      25000.0   4166.7      0.0      return not (must_capture or must_move_specific_piece)\n",
      "\n",
      "Total time: 3.8498 s\n",
      "File: /var/folders/j2/1qmnvcts25x7hrnmfmyczwg40000gn/T/ipykernel_16794/1175603468.py\n",
      "Function: gen_positions_from at line 52\n",
      "\n",
      "Line #      Hits         Time  Per Hit   % Time  Line Contents\n",
      "==============================================================\n",
      "    52                                           def gen_positions_from(b, sf, positions_to_generate, depth):\n",
      "    53        90   20346000.0 226066.7      0.5      fen = b.fen()\n",
      "    54        90  147994000.0    2e+06      3.8      sf.set_fen_position(fen)\n",
      "    55        90      95000.0   1055.6      0.0      if depth == 0:\n",
      "    56        10       5000.0    500.0      0.0          next_depth = 0\n",
      "    57        10       8000.0    800.0      0.0          if positions_to_generate != 1:\n",
      "    58                                                       raise ValueError(positions_to_generate)\n",
      "    59        10  306128000.0    3e+07      8.0          if position_is_stable(b, sf):\n",
      "    60         6    1016000.0 169333.3      0.0              print(f\"stable: {fen}\")\n",
      "    61                                                   else:\n",
      "    62         4      95000.0  23750.0      0.0              print(f\"unstable: {fen}\")\n",
      "    63        10      12000.0   1200.0      0.0          return None\n",
      "    64                                               else:\n",
      "    65        80 3342237000.0    4e+07     86.8          moves = sf.get_top_moves(min(7, positions_to_generate), num_nodes=10000)\n",
      "    66       160     270000.0   1687.5      0.0          moves = [move for move in moves if abs(move[\"Centipawn\"]) < 500]\n",
      "    67        80     105000.0   1312.5      0.0          if len(moves) == 0:\n",
      "    68                                                       print(f\"skewed: {fen}\")\n",
      "    69                                                       \n",
      "    70       160    1477000.0   9231.2      0.0          moves_to_explore = [chess.Move.from_uci(move[\"Move\"]) for move in moves]\n",
      "    71        80      43000.0    537.5      0.0          next_depth = depth-1\n",
      "    72        80   25856000.0 323200.0      0.7          moves = list(b.legal_moves)\n",
      "    73                                           \n",
      "    74        80      73000.0    912.5      0.0      pos_per = positions_to_generate // len(moves_to_explore)\n",
      "    75        80      45000.0    562.5      0.0      rem = positions_to_generate - pos_per * len(moves_to_explore)\n",
      "    76       160     294000.0   1837.5      0.0      for idx, move in enumerate(moves_to_explore):\n",
      "    77        80      40000.0    500.0      0.0          next_positions_to_generate = pos_per\n",
      "    78        80      31000.0    387.5      0.0          if idx < rem:\n",
      "    79                                                       next_positions_to_generate += 1\n",
      "    80        80    3227000.0  40337.5      0.1          b.push(move)\n",
      "    81        80      85000.0   1062.5      0.0          gen_positions_from(b, sf, next_positions_to_generate, next_depth)\n",
      "    82        80     320000.0   4000.0      0.0          b.pop()\n",
      "\n",
      "Total time: 3.85653 s\n",
      "File: /var/folders/j2/1qmnvcts25x7hrnmfmyczwg40000gn/T/ipykernel_16794/1175603468.py\n",
      "Function: gen_positions at line 84\n",
      "\n",
      "Line #      Hits         Time  Per Hit   % Time  Line Contents\n",
      "==============================================================\n",
      "    84                                           def gen_positions(sf, opening_fens, positions_to_generate, depth):\n",
      "    85         1       9000.0   9000.0      0.0      if positions_to_generate < len(opening_fens):\n",
      "    86         1     666000.0 666000.0      0.0          opening_fens = random.sample(opening_fens, positions_to_generate)\n",
      "    87                                                   \n",
      "    88         1       2000.0   2000.0      0.0      pos_per = positions_to_generate // len(opening_fens)\n",
      "    89         1       1000.0   1000.0      0.0      rem = positions_to_generate - pos_per * len(opening_fens)\n",
      "    90        11      20000.0   1818.2      0.0      for idx, fen in enumerate(opening_fens):\n",
      "    91        10       5000.0    500.0      0.0          next_positions_to_generate = pos_per\n",
      "    92        10       4000.0    400.0      0.0          if idx < rem:\n",
      "    93                                                       next_positions_to_generate += 1\n",
      "    94        10    3243000.0 324300.0      0.1          b = chess.Board(fen)\n",
      "    95        10       9000.0    900.0      0.0          try:\n",
      "    96        10 3852570000.0    4e+08     99.9              gen_positions_from(b, sf, next_positions_to_generate, depth)\n",
      "    97                                                   except ValueError as e:\n",
      "    98                                                       print(f\"Error from {fen}: {e}\")\n",
      "\n"
     ]
    }
   ],
   "source": [
    "positions_to_generate = 10\n",
    "depth = 8\n",
    "random.seed(0)\n",
    "\n",
    "lp = LineProfiler()\n",
    "lp.add_function(gen_positions_from)\n",
    "lp.add_function(gen_positions)\n",
    "lp.add_function(position_is_stable)\n",
    "opening_fens = !cat \"/Users/diegoesparza/CS_Ventures/current_projects/chess_engine_using_probabilities/kaggle_fens/strong_openings\"\n",
    "lp.runcall(gen_positions, sf, opening_fens, positions_to_generate, depth)\n",
    "lp.print_stats()"
   ]
  },
  {
   "cell_type": "code",
   "execution_count": 22,
   "metadata": {},
   "outputs": [
    {
     "name": "stdout",
     "output_type": "stream",
     "text": [
      "[{'Move': 'd7c5', 'Centipawn': -147, 'Mate': None}, {'Move': 'd7b6', 'Centipawn': -189, 'Mate': None}, {'Move': 'd7e5', 'Centipawn': -151, 'Mate': None}, {'Move': 'h8f6', 'Centipawn': -205, 'Mate': None}, {'Move': 'd8c8', 'Centipawn': -211, 'Mate': None}]\n",
      "[{'Move': 'd7c5', 'Centipawn': -120, 'Mate': None}, {'Move': 'd7b6', 'Centipawn': -193, 'Mate': None}, {'Move': 'd8c7', 'Centipawn': -193, 'Mate': None}, {'Move': 'h8f6', 'Centipawn': -217, 'Mate': None}, {'Move': 'd8c8', 'Centipawn': -222, 'Mate': None}]\n",
      "[{'Move': 'd7c5', 'Centipawn': -92, 'Mate': None}, {'Move': 'a7a6', 'Centipawn': -173, 'Mate': None}, {'Move': 'd7b6', 'Centipawn': -190, 'Mate': None}, {'Move': 'h8g7', 'Centipawn': -193, 'Mate': None}, {'Move': 'd8c7', 'Centipawn': -201, 'Mate': None}]\n",
      "[{'Move': 'd7c5', 'Centipawn': -69, 'Mate': None}, {'Move': 'd7b6', 'Centipawn': -191, 'Mate': None}, {'Move': 'a7a6', 'Centipawn': -208, 'Mate': None}, {'Move': 'h8f6', 'Centipawn': -208, 'Mate': None}, {'Move': 'h8g7', 'Centipawn': -211, 'Mate': None}]\n",
      "[{'Move': 'd7c5', 'Centipawn': -58, 'Mate': None}, {'Move': 'd7b6', 'Centipawn': -186, 'Mate': None}, {'Move': 'h8g7', 'Centipawn': -208, 'Mate': None}, {'Move': 'a7a6', 'Centipawn': -208, 'Mate': None}, {'Move': 'h8f6', 'Centipawn': -222, 'Mate': None}]\n",
      "[{'Move': 'd7c5', 'Centipawn': -107, 'Mate': None}, {'Move': 'a7a6', 'Centipawn': -217, 'Mate': None}, {'Move': 'd7b6', 'Centipawn': -168, 'Mate': None}, {'Move': 'h8g7', 'Centipawn': -186, 'Mate': None}, {'Move': 'h8f6', 'Centipawn': -200, 'Mate': None}]\n",
      "[{'Move': 'd7c5', 'Centipawn': -159, 'Mate': None}, {'Move': 'd7b6', 'Centipawn': -162, 'Mate': None}, {'Move': 'h8g7', 'Centipawn': -186, 'Mate': None}, {'Move': 'h8f6', 'Centipawn': -212, 'Mate': None}, {'Move': 'a7a6', 'Centipawn': -217, 'Mate': None}]\n",
      "[{'Move': 'd7c5', 'Centipawn': -180, 'Mate': None}, {'Move': 'd7b6', 'Centipawn': -180, 'Mate': None}, {'Move': 'h8f6', 'Centipawn': -217, 'Mate': None}, {'Move': 'h8g7', 'Centipawn': -219, 'Mate': None}, {'Move': 'd8c8', 'Centipawn': -225, 'Mate': None}]\n",
      "[{'Move': 'd7c5', 'Centipawn': -58, 'Mate': None}, {'Move': 'd7b6', 'Centipawn': -167, 'Mate': None}, {'Move': 'a7a6', 'Centipawn': -202, 'Mate': None}, {'Move': 'h8f6', 'Centipawn': -217, 'Mate': None}, {'Move': 'h8g7', 'Centipawn': -219, 'Mate': None}]\n",
      "[{'Move': 'd7c5', 'Centipawn': -48, 'Mate': None}, {'Move': 'd7b6', 'Centipawn': -191, 'Mate': None}, {'Move': 'h8f6', 'Centipawn': -194, 'Mate': None}, {'Move': 'a7a6', 'Centipawn': -202, 'Mate': None}, {'Move': 'h8g7', 'Centipawn': -219, 'Mate': None}]\n"
     ]
    }
   ],
   "source": [
    "sf.set_fen_position(\"Bn1qbrkb/p2n1p1p/6p1/3p4/Q2P3P/4PN2/PP2KPP1/R1B4R b - - 0 14\", send_ucinewgame_token=True)\n",
    "for i in range(10):\n",
    "    print(sf.get_top_moves(5, num_nodes=10000))"
   ]
  },
  {
   "cell_type": "code",
   "execution_count": 51,
   "metadata": {},
   "outputs": [
    {
     "data": {
      "text/plain": [
       "{'Debug Log File': '',\n",
       " 'Contempt': 0,\n",
       " 'Min Split Depth': 0,\n",
       " 'Ponder': 'false',\n",
       " 'MultiPV': 1,\n",
       " 'Skill Level': 20,\n",
       " 'Move Overhead': 2,\n",
       " 'Minimum Thinking Time': 4,\n",
       " 'Slow Mover': 5,\n",
       " 'UCI_Chess960': 'false',\n",
       " 'UCI_LimitStrength': 'true',\n",
       " 'UCI_Elo': 3000,\n",
       " 'Threads': 1,\n",
       " 'Hash': 16}"
      ]
     },
     "execution_count": 51,
     "metadata": {},
     "output_type": "execute_result"
    }
   ],
   "source": [
    "sf.get_parameters()"
   ]
  },
  {
   "cell_type": "code",
   "execution_count": 6,
   "metadata": {},
   "outputs": [
    {
     "name": "stdout",
     "output_type": "stream",
     "text": [
      "\u001b[0;31mSignature:\u001b[0m\n",
      "\u001b[0msf\u001b[0m\u001b[0;34m.\u001b[0m\u001b[0mget_top_moves\u001b[0m\u001b[0;34m(\u001b[0m\u001b[0;34m\u001b[0m\n",
      "\u001b[0;34m\u001b[0m    \u001b[0mnum_top_moves\u001b[0m\u001b[0;34m:\u001b[0m \u001b[0;34m'int'\u001b[0m \u001b[0;34m=\u001b[0m \u001b[0;36m5\u001b[0m\u001b[0;34m,\u001b[0m\u001b[0;34m\u001b[0m\n",
      "\u001b[0;34m\u001b[0m    \u001b[0mverbose\u001b[0m\u001b[0;34m:\u001b[0m \u001b[0;34m'bool'\u001b[0m \u001b[0;34m=\u001b[0m \u001b[0;32mFalse\u001b[0m\u001b[0;34m,\u001b[0m\u001b[0;34m\u001b[0m\n",
      "\u001b[0;34m\u001b[0m    \u001b[0mnum_nodes\u001b[0m\u001b[0;34m:\u001b[0m \u001b[0;34m'int'\u001b[0m \u001b[0;34m=\u001b[0m \u001b[0;36m0\u001b[0m\u001b[0;34m,\u001b[0m\u001b[0;34m\u001b[0m\n",
      "\u001b[0;34m\u001b[0m\u001b[0;34m)\u001b[0m \u001b[0;34m->\u001b[0m \u001b[0;34m'List[dict]'\u001b[0m\u001b[0;34m\u001b[0m\u001b[0;34m\u001b[0m\u001b[0m\n",
      "\u001b[0;31mDocstring:\u001b[0m\n",
      "Returns info on the top moves in the position.\n",
      "\n",
      "Args:\n",
      "    num_top_moves:\n",
      "      The number of moves for which to return information, assuming there\n",
      "      are at least that many legal moves.\n",
      "      Default is 5.\n",
      "\n",
      "    verbose:\n",
      "      Option to include the full info from the engine in the returned dictionary,\n",
      "      including seldepth, multipv, time, nodes, nps, and wdl if available.\n",
      "      `Boolean`. Default is `False`.\n",
      "\n",
      "    num_nodes:\n",
      "      Option to search until a certain number of nodes have been searched, instead of depth.\n",
      "      Default is 0.\n",
      "\n",
      "Returns:\n",
      "    A list of dictionaries, where each dictionary contains keys for `Move`, `Centipawn`, and `Mate`.\n",
      "    The corresponding value for either the `Centipawn` or `Mate` key will be `None`.\n",
      "    If there are no moves in the position, an empty list is returned.\n",
      "\n",
      "    If `verbose` is `True`, the dictionary will also include the following keys: `SelectiveDepth`, `Time`,\n",
      "    `Nodes`, `NodesPerSecond`, `MultiPVLine`, and `WDL` (if available).\n",
      "\n",
      "Example:\n",
      "    >>> moves = stockfish.get_top_moves(2, num_nodes=1000000, verbose=True)\n",
      "\u001b[0;31mFile:\u001b[0m      ~/CS_Ventures/current_projects/chess_engine_using_probabilities/stockfish_python_wrapper/stockfish/stockfish/models.py\n",
      "\u001b[0;31mType:\u001b[0m      method"
     ]
    }
   ],
   "source": [
    "sf.get_top_moves?"
   ]
  },
  {
   "cell_type": "code",
   "execution_count": 47,
   "metadata": {},
   "outputs": [
    {
     "name": "stdout",
     "output_type": "stream",
     "text": [
      "\u001b[0;31mType:\u001b[0m        Stockfish\n",
      "\u001b[0;31mString form:\u001b[0m <stockfish.models.Stockfish object at 0x1267a1450>\n",
      "\u001b[0;31mFile:\u001b[0m        ~/.pyenv/versions/3.13.0/lib/python3.13/site-packages/stockfish/models.py\n",
      "\u001b[0;31mDocstring:\u001b[0m   Integrates the Stockfish chess engine with Python."
     ]
    }
   ],
   "source": [
    "sf?"
   ]
  },
  {
   "cell_type": "code",
   "execution_count": 57,
   "metadata": {},
   "outputs": [
    {
     "data": {
      "text/plain": [
       "'d7b6'"
      ]
     },
     "execution_count": 57,
     "metadata": {},
     "output_type": "execute_result"
    }
   ],
   "source": [
    "sf.get_best_move(wtime=5, btime=5)"
   ]
  },
  {
   "cell_type": "code",
   "execution_count": 13,
   "metadata": {},
   "outputs": [
    {
     "name": "stdout",
     "output_type": "stream",
     "text": [
      "\u001b[0;31mSignature:\u001b[0m\n",
      "\u001b[0msf\u001b[0m\u001b[0;34m.\u001b[0m\u001b[0mset_fen_position\u001b[0m\u001b[0;34m(\u001b[0m\u001b[0;34m\u001b[0m\n",
      "\u001b[0;34m\u001b[0m    \u001b[0mfen_position\u001b[0m\u001b[0;34m:\u001b[0m \u001b[0;34m'str'\u001b[0m\u001b[0;34m,\u001b[0m\u001b[0;34m\u001b[0m\n",
      "\u001b[0;34m\u001b[0m    \u001b[0msend_ucinewgame_token\u001b[0m\u001b[0;34m:\u001b[0m \u001b[0;34m'bool'\u001b[0m \u001b[0;34m=\u001b[0m \u001b[0;32mTrue\u001b[0m\u001b[0;34m,\u001b[0m\u001b[0;34m\u001b[0m\n",
      "\u001b[0;34m\u001b[0m\u001b[0;34m)\u001b[0m \u001b[0;34m->\u001b[0m \u001b[0;34m'None'\u001b[0m\u001b[0;34m\u001b[0m\u001b[0;34m\u001b[0m\u001b[0m\n",
      "\u001b[0;31mDocstring:\u001b[0m\n",
      "Sets current board position in Forsyth-Edwards notation (FEN).\n",
      "\n",
      "Args:\n",
      "    fen_position:\n",
      "      FEN string of board position.\n",
      "\n",
      "    send_ucinewgame_token:\n",
      "      Whether to send the `ucinewgame` token to the Stockfish engine.\n",
      "      The most prominent effect this will have is clearing Stockfish's transposition table,\n",
      "      which should be done if the new position is unrelated to the current position.\n",
      "\n",
      "Returns:\n",
      "    `None`\n",
      "\n",
      "Example:\n",
      "    >>> stockfish.set_fen_position(\"1nb1k1n1/pppppppp/8/6r1/5bqK/6r1/8/8 w - - 2 2\")\n",
      "\u001b[0;31mFile:\u001b[0m      ~/CS_Ventures/current_projects/chess_engine_using_probabilities/stockfish_python_wrapper/stockfish/stockfish/models.py\n",
      "\u001b[0;31mType:\u001b[0m      method"
     ]
    }
   ],
   "source": [
    "sf.set_fen_position?"
   ]
  },
  {
   "cell_type": "code",
   "execution_count": 14,
   "metadata": {},
   "outputs": [
    {
     "name": "stdout",
     "output_type": "stream",
     "text": [
      "\u001b[0;31mSignature:\u001b[0m \u001b[0msf\u001b[0m\u001b[0;34m.\u001b[0m\u001b[0mget_evaluation\u001b[0m\u001b[0;34m(\u001b[0m\u001b[0msearchtime\u001b[0m\u001b[0;34m:\u001b[0m \u001b[0;34m'Optional[int]'\u001b[0m \u001b[0;34m=\u001b[0m \u001b[0;32mNone\u001b[0m\u001b[0;34m)\u001b[0m \u001b[0;34m->\u001b[0m \u001b[0;34m'Dict[str, Union[str, int]]'\u001b[0m\u001b[0;34m\u001b[0m\u001b[0;34m\u001b[0m\u001b[0m\n",
      "\u001b[0;31mDocstring:\u001b[0m\n",
      "Searches to the specified depth and evaluates the current position.\n",
      "\n",
      "Args:\n",
      "    searchtime:\n",
      "      [Optional] Time for Stockfish to evaluate in milliseconds (int)\n",
      "\n",
      "Returns:\n",
      "    A dictionary of two pairs: {str: str, str: int}\n",
      "    - The first pair describes the type of the evaluation. The key is \"type\", and the value\n",
      "      will be either \"cp\" (centipawns) or \"mate\".\n",
      "    - The second pair describes the value of the evaluation. The key is \"value\", and the value\n",
      "      will be an int (representing either a cp value or a mate in n value).\n",
      "\u001b[0;31mFile:\u001b[0m      ~/CS_Ventures/current_projects/chess_engine_using_probabilities/stockfish_python_wrapper/stockfish/stockfish/models.py\n",
      "\u001b[0;31mType:\u001b[0m      method"
     ]
    }
   ],
   "source": [
    "sf.get_evaluation?"
   ]
  },
  {
   "cell_type": "code",
   "execution_count": null,
   "metadata": {},
   "outputs": [],
   "source": []
  }
 ],
 "metadata": {
  "kernelspec": {
   "display_name": "Python 3",
   "language": "python",
   "name": "python3"
  },
  "language_info": {
   "codemirror_mode": {
    "name": "ipython",
    "version": 3
   },
   "file_extension": ".py",
   "mimetype": "text/x-python",
   "name": "python",
   "nbconvert_exporter": "python",
   "pygments_lexer": "ipython3",
   "version": "3.13.0"
  },
  "orig_nbformat": 4
 },
 "nbformat": 4,
 "nbformat_minor": 2
}
